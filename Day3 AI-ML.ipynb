{
 "cells": [
  {
   "cell_type": "markdown",
   "metadata": {},
   "source": [
    "# Subtraction of Complex number"
   ]
  },
  {
   "cell_type": "code",
   "execution_count": null,
   "metadata": {},
   "outputs": [],
   "source": [
    "z1 = complex(input(\"Enter first complex number - \"))\n",
    "z2 = complex(input(\"Enter second complex number - \"))\n",
    "z = z1 - z2\n",
    "print('The subtraction of given complex number is',z)"
   ]
  },
  {
   "cell_type": "markdown",
   "metadata": {},
   "source": [
    "# 4th Root"
   ]
  },
  {
   "cell_type": "code",
   "execution_count": null,
   "metadata": {},
   "outputs": [],
   "source": [
    "import math\n",
    "import random\n",
    "\n",
    "A = int(input('Enter the number to find 4th square root '))\n",
    "xPre = random.randint(1,101) % 10\n",
    "eps = 0.001\n",
    "delX = 2147483647\n",
    "xK=0.0\n",
    "N = 4\n",
    "while (delX > eps):\n",
    "    try:\n",
    "        xK = ((N - 1.0) * xPre + A/pow(xPre, N-1)) /N\n",
    "        delX = abs(xK - xPre)\n",
    "        xPre = xK\n",
    "        result = True\n",
    "    except:\n",
    "        print(\"Please enter valid number\")\n",
    "        result = False\n",
    "        break\n",
    "if (result == True):\n",
    "    print(\"Result - \",xK)"
   ]
  },
  {
   "cell_type": "markdown",
   "metadata": {},
   "source": [
    "# Swapping two Numbers using temporary variable"
   ]
  },
  {
   "cell_type": "code",
   "execution_count": null,
   "metadata": {},
   "outputs": [],
   "source": [
    "a = int(input(\"Enter first number a - \"))\n",
    "b = int(input(\"Enter second number b - \"))\n",
    "print(\"Before swapping a =\",a,\" b =\",b)\n",
    "c = a\n",
    "a = b\n",
    "b = c\n",
    "print(\"After swapping a =\",a,\" b =\",b)"
   ]
  },
  {
   "cell_type": "markdown",
   "metadata": {},
   "source": [
    "# Swapping two Numbers without temporary variable"
   ]
  },
  {
   "cell_type": "code",
   "execution_count": 2,
   "metadata": {},
   "outputs": [
    {
     "name": "stdout",
     "output_type": "stream",
     "text": [
      "Enter first number a - 9\n",
      "Enter second number b - 5\n",
      "Before swapping a = 9  b = 5\n",
      "After swapping a = 5  b = 9\n"
     ]
    }
   ],
   "source": [
    "a = int(input(\"Enter first number a - \"))\n",
    "b = int(input(\"Enter second number b - \"))\n",
    "print(\"Before swapping a =\",a,\" b =\",b)\n",
    "a = a + b\n",
    "b = a - b\n",
    "a = a - b\n",
    "print(\"After swapping a =\",a,\" b =\",b)"
   ]
  },
  {
   "cell_type": "markdown",
   "metadata": {},
   "source": [
    "# Calculating kelvin and celcius from Fahrenheit"
   ]
  },
  {
   "cell_type": "code",
   "execution_count": 4,
   "metadata": {},
   "outputs": [
    {
     "name": "stdout",
     "output_type": "stream",
     "text": [
      "Enter temperature to be converted into kelvin and celcius - 45\n",
      "Temperature in Kelvin ( K ) = 280.722\n",
      "Temperature in Celcius ( C ) = 7.222\n"
     ]
    }
   ],
   "source": [
    "F = int(input(\"Enter temperature to be converted into kelvin and celcius - \"))\n",
    "def Fahrenheit_to_Kelvin(F):\n",
    "    return 273.5 + ((F - 32.0) * (5.0/9.0))\n",
    "def Fahrenheit_to_celcius(F):\n",
    "    return (F - 32) * 5 / 9;\n",
    "print(\"Temperature in Kelvin ( K ) = {:.3f}\".format(Fahrenheit_to_Kelvin( F )))\n",
    "print(\"Temperature in Celcius ( C ) = {:.3f}\".format(Fahrenheit_to_celcius( F )))"
   ]
  },
  {
   "cell_type": "markdown",
   "metadata": {},
   "source": [
    "# Demonstration of variable data types"
   ]
  },
  {
   "cell_type": "code",
   "execution_count": 12,
   "metadata": {},
   "outputs": [
    {
     "name": "stdout",
     "output_type": "stream",
     "text": [
      "<class 'str'>\n",
      "<class 'int'>\n",
      "<class 'float'>\n",
      "<class 'complex'>\n",
      "<class 'list'>\n",
      "<class 'tuple'>\n",
      "<class 'dict'>\n",
      "<class 'set'>\n",
      "<class 'bool'>\n"
     ]
    }
   ],
   "source": [
    "x_str = \"Hello World\"\n",
    "print(type(x_str))\n",
    "x_int = 20\n",
    "print(type(x_int))\n",
    "x_float = 20.5\n",
    "print(type(x_float))\n",
    "x_complex = 1j\n",
    "print(type(x_complex))\n",
    "x_list = [\"apple\", \"banana\", \"cherry\"]\n",
    "print(type(x_list))\n",
    "x_tuple = (\"apple\", \"banana\", \"cherry\")\n",
    "print(type(x_tuple))\n",
    "x_dict = {\"name\" : \"John\", \"age\" : 36}\n",
    "print(type(x_dict))\n",
    "x_set = {\"apple\", \"banana\", \"cherry\"}\n",
    "print(type(x_set))\n",
    "x_boolean = True\n",
    "print(type(x_boolean))"
   ]
  },
  {
   "cell_type": "markdown",
   "metadata": {},
   "source": [
    "# steps to upload Githubs Assignment link\n",
    "\n",
    "- Create a Github public repo and name it LetsUpgrade AI/ML\n",
    "- Upload the files/solution in the repo in day wise manner.\n",
    "- Copy the URL of the Folder of that day and paste in the Assignment Submission Form (Google Form)\n",
    "- Fill correct details in the Assignment Submission Form and paste the url in the form."
   ]
  },
  {
   "cell_type": "code",
   "execution_count": null,
   "metadata": {},
   "outputs": [],
   "source": []
  }
 ],
 "metadata": {
  "kernelspec": {
   "display_name": "Python 3",
   "language": "python",
   "name": "python3"
  },
  "language_info": {
   "codemirror_mode": {
    "name": "ipython",
    "version": 3
   },
   "file_extension": ".py",
   "mimetype": "text/x-python",
   "name": "python",
   "nbconvert_exporter": "python",
   "pygments_lexer": "ipython3",
   "version": "3.7.6"
  }
 },
 "nbformat": 4,
 "nbformat_minor": 4
}
